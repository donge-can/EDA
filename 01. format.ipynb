{
 "cells": [
  {
   "cell_type": "markdown",
   "metadata": {},
   "source": [
    "### 1. 기본적인 format 함수 "
   ]
  },
  {
   "cell_type": "code",
   "execution_count": 6,
   "metadata": {},
   "outputs": [
    {
     "name": "stdout",
     "output_type": "stream",
     "text": [
      "몸무게:  62.560000\n",
      "돈: \\ 123,401\n",
      "돈: \\ 123401\n"
     ]
    }
   ],
   "source": [
    "weight = 62.56\n",
    "print('몸무게: ', format(weight, '3f'))\n",
    "print('돈: \\\\',format(123401, ',d'))\n",
    "print('돈: \\\\',format(123401))"
   ]
  },
  {
   "cell_type": "markdown",
   "metadata": {},
   "source": [
    "- `print('돈: \\\\',format(123401, ',d'))` : \\\\ 를 2번 작성한 이유는 \\ 자체를 문자로 인식해주기 위함이다.\n",
    "- `print('돈: \\\\',format(123401, ',d'))` : format() 안에 있는 ,d는 구분자를 쉼표로 사용하겠다는 의미이다. 구분자를 사용하지 않은 `print('돈: \\\\',format(123401))` 와 비교가능하다.\n"
   ]
  },
  {
   "cell_type": "markdown",
   "metadata": {},
   "source": [
    "<br>\n",
    "\n",
    "### 2. 순서 지정하지 않고, format 함수 사용 \n",
    "\n",
    "`'{} {}.format()'`"
   ]
  },
  {
   "cell_type": "code",
   "execution_count": 9,
   "metadata": {},
   "outputs": [
    {
     "data": {
      "text/plain": [
       "'홍길동의 나이는 34 입니다.'"
      ]
     },
     "execution_count": 9,
     "metadata": {},
     "output_type": "execute_result"
    }
   ],
   "source": [
    "'{}의 나이는 {} 입니다.'.format('홍길동', 34)"
   ]
  },
  {
   "cell_type": "markdown",
   "metadata": {},
   "source": [
    "- {} 대괄호 안에 인덱싱을 하지 않으면, 즉 아무런 숫자도 입력하지 않으면, format 안에 들어있는 값들이 처음부터 차례대로 출력된다.\n",
    "- 즉, 입력값이 들어간 순서에 따라 차례대로 출력된다."
   ]
  },
  {
   "cell_type": "markdown",
   "metadata": {},
   "source": [
    "<br>\n",
    "\n",
    "### 3. 순서 지정하고, format 함수 사용"
   ]
  },
  {
   "cell_type": "code",
   "execution_count": 11,
   "metadata": {},
   "outputs": [
    {
     "data": {
      "text/plain": [
       "'12 34 56'"
      ]
     },
     "execution_count": 11,
     "metadata": {},
     "output_type": "execute_result"
    }
   ],
   "source": [
    "'{0} {1} {2}'.format(12, 34, 56)"
   ]
  },
  {
   "cell_type": "markdown",
   "metadata": {},
   "source": [
    "- format() 안에 담겨있는 element는 총 3개로, 인덱스 번호는 0 1 2 이다.\n",
    "- 즉, {0} = 12, {1} = 34 , {2} = 56 에 해당한다.\n",
    "\n",
    "<br>\n",
    "\n",
    "- 아래의 경우처럼, 인덱스 번호를 초과할 경우, 오류가 발생한다."
   ]
  },
  {
   "cell_type": "code",
   "execution_count": 13,
   "metadata": {},
   "outputs": [
    {
     "ename": "IndexError",
     "evalue": "tuple index out of range",
     "output_type": "error",
     "traceback": [
      "\u001b[1;31m---------------------------------------------------------------------------\u001b[0m",
      "\u001b[1;31mIndexError\u001b[0m                                Traceback (most recent call last)",
      "\u001b[1;32m<ipython-input-13-bc4a21422248>\u001b[0m in \u001b[0;36m<module>\u001b[1;34m\u001b[0m\n\u001b[1;32m----> 1\u001b[1;33m \u001b[1;34m'{1} {2} {3}'\u001b[0m\u001b[1;33m.\u001b[0m\u001b[0mformat\u001b[0m\u001b[1;33m(\u001b[0m\u001b[1;36m12\u001b[0m\u001b[1;33m,\u001b[0m \u001b[1;36m34\u001b[0m\u001b[1;33m,\u001b[0m \u001b[1;36m56\u001b[0m\u001b[1;33m)\u001b[0m\u001b[1;33m\u001b[0m\u001b[1;33m\u001b[0m\u001b[0m\n\u001b[0m",
      "\u001b[1;31mIndexError\u001b[0m: tuple index out of range"
     ]
    }
   ],
   "source": [
    "'{1} {2} {3}'.format(12, 34, 56)"
   ]
  },
  {
   "cell_type": "markdown",
   "metadata": {},
   "source": [
    "- 인덱스를 오류없이 출력한다면, 출력 결과의 개수는 상관없다."
   ]
  },
  {
   "cell_type": "code",
   "execution_count": 14,
   "metadata": {},
   "outputs": [
    {
     "data": {
      "text/plain": [
       "'12 12 34 34'"
      ]
     },
     "execution_count": 14,
     "metadata": {},
     "output_type": "execute_result"
    }
   ],
   "source": [
    "'{0} {0} {1} {1}'.format(12, 34, 56)"
   ]
  },
  {
   "cell_type": "markdown",
   "metadata": {},
   "source": [
    "<br>\n",
    "<br>\n",
    "\n",
    "### 4. format 함수 응용"
   ]
  },
  {
   "cell_type": "markdown",
   "metadata": {},
   "source": [
    "- `2/5` 의 계산 시각적으로 나타내기 "
   ]
  },
  {
   "cell_type": "code",
   "execution_count": 2,
   "metadata": {},
   "outputs": [
    {
     "data": {
      "text/plain": [
       "'2 / 5 = 0.40'"
      ]
     },
     "execution_count": 2,
     "metadata": {},
     "output_type": "execute_result"
    }
   ],
   "source": [
    "'{} / {} = {:2.2f}'.format(2, 5, 2/5)"
   ]
  },
  {
   "cell_type": "markdown",
   "metadata": {},
   "source": [
    "- `{:2.2f}` 에서 `:2` 의 의미는 결과값의 정수 자리에 2칸을 할당하라는 의미 (컴퓨터는 blank 역시 1개의 칸으로 인식한다.)\n",
    "- 그래서 결과 값이 ' 0.40'이다. 정수 자리 0 앞에 한칸이 더 있는 것을 확인할 수 있다.\n",
    "\n",
    "<br>\n",
    "\n",
    "- `.2f`의 의미는 소수점 둘째 자리까지 표현하라는 의미"
   ]
  },
  {
   "cell_type": "code",
   "execution_count": 23,
   "metadata": {},
   "outputs": [
    {
     "data": {
      "text/plain": [
       "'13 / 3 =     4.3333'"
      ]
     },
     "execution_count": 23,
     "metadata": {},
     "output_type": "execute_result"
    }
   ],
   "source": [
    "'{0} / {1} = {2:10.4f}'.format(13, 3, 13 / 3)"
   ]
  },
  {
   "cell_type": "markdown",
   "metadata": {},
   "source": [
    "- `{2:10.4f}` : 총 자리수를 10 자리로 맞추고, 소수점 4자리까지 표현"
   ]
  },
  {
   "cell_type": "markdown",
   "metadata": {},
   "source": [
    "<br>\n",
    "\n",
    "### 5. list & format"
   ]
  },
  {
   "cell_type": "code",
   "execution_count": 24,
   "metadata": {},
   "outputs": [
    {
     "data": {
      "text/plain": [
       "80"
      ]
     },
     "execution_count": 24,
     "metadata": {},
     "output_type": "execute_result"
    }
   ],
   "source": [
    "list = [30, 40, 50, 60, 80, 90, 100]\n",
    "list[4]"
   ]
  },
  {
   "cell_type": "code",
   "execution_count": 25,
   "metadata": {},
   "outputs": [
    {
     "data": {
      "text/plain": [
       "'list[4] = 80'"
      ]
     },
     "execution_count": 25,
     "metadata": {},
     "output_type": "execute_result"
    }
   ],
   "source": [
    "'list[4] = {0[4]}'.format(list)"
   ]
  },
  {
   "cell_type": "markdown",
   "metadata": {},
   "source": [
    "- format 함수는 {} 대괄호 안에 있는 것을 받고 출력한다.\n",
    "<br>\n",
    "\n",
    "- `'list[4] = {0[4]}'.format(list)` 코드에서 format이 인식하여 받는 값은 `{0[4]}`이며, `{0}` 은 format(list)의 list 를 의미한다.\n",
    "- format 안에 들어있는 값이 list 하나이기 때문에 `{[4]}` 라고만 입력해 줘도 되지만, 만약 format 안에 들어있는 값이 여러개라면 인덱스를 입력해주는 것이 좋다."
   ]
  },
  {
   "cell_type": "markdown",
   "metadata": {},
   "source": [
    "<br>\n",
    "\n",
    "#### 예를 들어, format()안에 두 개 이상의 객체가 들어 있다면 인덱스는 의미가 있다. \n",
    "\n",
    "- 아래의 예를 통해서 설명가능하다."
   ]
  },
  {
   "cell_type": "code",
   "execution_count": 28,
   "metadata": {},
   "outputs": [],
   "source": [
    "list_a = [30, 40, 50, 60, 80, 90, 100]\n",
    "list_b = [20, 30, 40, 50, 60, 70, 80]"
   ]
  },
  {
   "cell_type": "code",
   "execution_count": 39,
   "metadata": {},
   "outputs": [
    {
     "name": "stdout",
     "output_type": "stream",
     "text": [
      "두번째 list의 5번째 인덱스: list[4] = 60\n",
      "첫번째 list의 5번째 인덱스: list[4] = 80\n",
      "인덱스 미지정: list[4] = 80\n"
     ]
    }
   ],
   "source": [
    "print(\"두번째 list의 5번째 인덱스:\", 'list[4] = {1[4]}'.format(list_a, list_b))\n",
    "print(\"첫번째 list의 5번째 인덱스:\", 'list[4] = {0[4]}'.format(list_a, list_b))\n",
    "print(\"인덱스 미지정:\", 'list[4] = {[4]}'.format(list_a, list_b))"
   ]
  },
  {
   "cell_type": "markdown",
   "metadata": {},
   "source": [
    "- `print('list[4] = {1[4]}'.format(list_a, list_b))` 는 list_b를 받아서 5번째 요소를 출력하라는 의미이다.\n",
    "- `print('list[4] = {[4]}'.format(list_a, list_b))` 에서는 인덱스를 지정하지 않았지만, 첫번째 요소를 받아서 출력한다. 추후에 헷갈릴 경우를 대비하여 인덱스를 지정할 것을 권장"
   ]
  },
  {
   "cell_type": "markdown",
   "metadata": {},
   "source": [
    "<br>\n",
    "\n",
    "### 6. 변수 이용하여 format 함수로 출력하기"
   ]
  },
  {
   "cell_type": "code",
   "execution_count": 40,
   "metadata": {},
   "outputs": [
    {
     "data": {
      "text/plain": [
       "'제 나이는 19 살이고, 제 몸무게는 64.2kg 입니다.'"
      ]
     },
     "execution_count": 40,
     "metadata": {},
     "output_type": "execute_result"
    }
   ],
   "source": [
    "'제 나이는 {age} 살이고, 제 몸무게는 {weight}kg 입니다.'.format(age = 19, weight = 64.2)"
   ]
  },
  {
   "cell_type": "markdown",
   "metadata": {},
   "source": [
    "- age 에 할당된 값과 weight에 할당된 값이 그대로 반영되어 출력되었다."
   ]
  },
  {
   "cell_type": "markdown",
   "metadata": {},
   "source": [
    "<br>\n",
    "\n",
    "### 7. 칸 할당하기"
   ]
  },
  {
   "cell_type": "markdown",
   "metadata": {},
   "source": [
    "- 문자 활용하기"
   ]
  },
  {
   "cell_type": "code",
   "execution_count": 41,
   "metadata": {},
   "outputs": [
    {
     "data": {
      "text/plain": [
       "'cat   '"
      ]
     },
     "execution_count": 41,
     "metadata": {},
     "output_type": "execute_result"
    }
   ],
   "source": [
    "'{0:6s}'.format('cat')"
   ]
  },
  {
   "cell_type": "markdown",
   "metadata": {},
   "source": [
    "- `'{0:6s}'` 에서 `s`의 의미는 문자열 출력이며, 숫자 `6`은 할당되는 칸을 의미한다.\n",
    "- `len` 을 통해서 해당 출력값의 길이를 확인했다."
   ]
  },
  {
   "cell_type": "code",
   "execution_count": 42,
   "metadata": {},
   "outputs": [
    {
     "data": {
      "text/plain": [
       "6"
      ]
     },
     "execution_count": 42,
     "metadata": {},
     "output_type": "execute_result"
    }
   ],
   "source": [
    "len('{0:6s}'.format('cat'))"
   ]
  },
  {
   "cell_type": "markdown",
   "metadata": {},
   "source": [
    "<br>\n",
    "\n",
    "- 숫자 활용하기"
   ]
  },
  {
   "cell_type": "code",
   "execution_count": 45,
   "metadata": {
    "scrolled": true
   },
   "outputs": [
    {
     "data": {
      "text/plain": [
       "'  123'"
      ]
     },
     "execution_count": 45,
     "metadata": {},
     "output_type": "execute_result"
    }
   ],
   "source": [
    "'{0:5d}'.format(123)"
   ]
  },
  {
   "cell_type": "markdown",
   "metadata": {},
   "source": [
    "- `'{0:5d}'` 에서 숫자 `5`는 할당된 칸을, `d` 는 숫자를 의미 \n",
    "- 원래 숫자는 할당된 칸 중 뒤에서 부터 채워진다.\n",
    "- `>` 와 `<`의 옵션을 활용해서 숫자의 위치를 변경할 수 있다."
   ]
  },
  {
   "cell_type": "code",
   "execution_count": 46,
   "metadata": {},
   "outputs": [
    {
     "data": {
      "text/plain": [
       "'123  '"
      ]
     },
     "execution_count": 46,
     "metadata": {},
     "output_type": "execute_result"
    }
   ],
   "source": [
    "'{0:<5d}'.format(123)"
   ]
  },
  {
   "cell_type": "markdown",
   "metadata": {},
   "source": [
    "- 총 5칸이 할당되었으며, `<` 를 활용해 숫자가 앞에서 부터 채워진 것을 알 수 있다.\n",
    "<br>\n",
    "\n",
    "- 빈칸을 `0` 으로도 채울 수 있다."
   ]
  },
  {
   "cell_type": "code",
   "execution_count": 47,
   "metadata": {},
   "outputs": [
    {
     "data": {
      "text/plain": [
       "'0001234'"
      ]
     },
     "execution_count": 47,
     "metadata": {},
     "output_type": "execute_result"
    }
   ],
   "source": [
    "'{0:07d}'.format(1234)"
   ]
  },
  {
   "cell_type": "code",
   "execution_count": 51,
   "metadata": {},
   "outputs": [
    {
     "data": {
      "text/plain": [
       "'1234      '"
      ]
     },
     "execution_count": 51,
     "metadata": {},
     "output_type": "execute_result"
    }
   ],
   "source": [
    "'{0:10s}'.format('1234')"
   ]
  },
  {
   "cell_type": "markdown",
   "metadata": {},
   "source": [
    "### 8. 정렬\n",
    "<br>\n",
    "\n",
    "- 가운데정렬 `^`"
   ]
  },
  {
   "cell_type": "code",
   "execution_count": 1,
   "metadata": {},
   "outputs": [
    {
     "data": {
      "text/plain": [
       "'  1234   '"
      ]
     },
     "execution_count": 1,
     "metadata": {},
     "output_type": "execute_result"
    }
   ],
   "source": [
    "'{0: ^9d}'.format(1234)"
   ]
  },
  {
   "cell_type": "markdown",
   "metadata": {},
   "source": [
    "- `'{0: ^9d}'` 에서 9칸 할당하고, format() 인자값을 가운데 정렬하라는 의미"
   ]
  },
  {
   "cell_type": "markdown",
   "metadata": {},
   "source": [
    "- 왼쪽 정렬 `<`"
   ]
  },
  {
   "cell_type": "code",
   "execution_count": 2,
   "metadata": {},
   "outputs": [
    {
     "data": {
      "text/plain": [
       "'help      '"
      ]
     },
     "execution_count": 2,
     "metadata": {},
     "output_type": "execute_result"
    }
   ],
   "source": [
    "'{0:<10s}'.format('help')"
   ]
  },
  {
   "cell_type": "markdown",
   "metadata": {},
   "source": [
    "- 오른쪽 정렬 `>`"
   ]
  },
  {
   "cell_type": "code",
   "execution_count": 3,
   "metadata": {},
   "outputs": [
    {
     "data": {
      "text/plain": [
       "'      help'"
      ]
     },
     "execution_count": 3,
     "metadata": {},
     "output_type": "execute_result"
    }
   ],
   "source": [
    "'{0:>10s}'.format('help')"
   ]
  },
  {
   "cell_type": "markdown",
   "metadata": {},
   "source": [
    "- 공백채우기\n",
    "    - 공백 대신 할 값 + `>`, `<`, `^` "
   ]
  },
  {
   "cell_type": "code",
   "execution_count": 5,
   "metadata": {},
   "outputs": [
    {
     "data": {
      "text/plain": [
       "'000000help'"
      ]
     },
     "execution_count": 5,
     "metadata": {},
     "output_type": "execute_result"
    }
   ],
   "source": [
    "'{0:0>10s}'.format('help')"
   ]
  },
  {
   "cell_type": "markdown",
   "metadata": {},
   "source": [
    "- 숫자 0으로 공백을 대체했다."
   ]
  }
 ],
 "metadata": {
  "kernelspec": {
   "display_name": "Python 3",
   "language": "python",
   "name": "python3"
  },
  "language_info": {
   "codemirror_mode": {
    "name": "ipython",
    "version": 3
   },
   "file_extension": ".py",
   "mimetype": "text/x-python",
   "name": "python",
   "nbconvert_exporter": "python",
   "pygments_lexer": "ipython3",
   "version": "3.7.3"
  }
 },
 "nbformat": 4,
 "nbformat_minor": 2
}
