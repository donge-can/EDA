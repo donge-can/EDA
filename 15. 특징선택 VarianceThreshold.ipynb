{
 "cells": [
  {
   "cell_type": "markdown",
   "metadata": {},
   "source": [
    "<br>\n",
    "\n",
    "### 특징 선택 - VarianceThreshold\n",
    "- 분산에 의한 선택\n",
    "\n",
    "\n",
    "- 원래 예측모형에서 중요한 특징데이터란, 종속데이터와 상관관계가 크고, 예측에 도움이 되는 데이터를 의미한다.\n",
    "\n",
    "\n",
    "- 상관관계 계산에 앞서, 특징 데이터의 값 자체가 표본에 따라 그다지 변하지 않는다면 예측에 도움이 되지 않는다.\n",
    "\n",
    "- 표본 변화에 따른 데이터 값의 변화 즉, **분산이 기준치보다 낮은 특징 데이터는 사용하지 않는 방법이 분산에 의한 선택 방법**이다.\n",
    "\n",
    "- 예를 들어, 종속데이터와 특징데이터가 모두 0 또는 1 두가지 값만 가지는데 종속데이터는 0과 1이 균형을 이루는데 반해, 특징데이터가 대부분(예를 들어 90%)의 값이 0 이라면 특징데이터는 분류에 도움이 되지 않을 가능성이 높다."
   ]
  },
  {
   "cell_type": "code",
   "execution_count": 8,
   "metadata": {},
   "outputs": [
    {
     "data": {
      "text/plain": [
       "array([[2, 0],\n",
       "       [1, 4],\n",
       "       [1, 1]])"
      ]
     },
     "execution_count": 8,
     "metadata": {},
     "output_type": "execute_result"
    }
   ],
   "source": [
    "from sklearn.feature_selection import VarianceThreshold\n",
    "\n",
    "X = [[0, 2, 0, 3], [0, 1, 4, 3], [0, 1, 1, 3]]\n",
    "\n",
    "selector = VarianceThreshold()\n",
    "selector.fit_transform(X) # 분산이 0인 열 제거 첫번째와 마지막열 제거함"
   ]
  },
  {
   "cell_type": "code",
   "execution_count": 9,
   "metadata": {},
   "outputs": [
    {
     "data": {
      "text/plain": [
       "array([1, 2], dtype=int64)"
      ]
     },
     "execution_count": 9,
     "metadata": {},
     "output_type": "execute_result"
    }
   ],
   "source": [
    "selector.get_support(indices=True)"
   ]
  },
  {
   "cell_type": "code",
   "execution_count": 10,
   "metadata": {},
   "outputs": [
    {
     "data": {
      "text/plain": [
       "array([False,  True,  True, False])"
      ]
     },
     "execution_count": 10,
     "metadata": {},
     "output_type": "execute_result"
    }
   ],
   "source": [
    "selector.get_support() # indices 기본값이 False"
   ]
  }
 ],
 "metadata": {
  "kernelspec": {
   "display_name": "Python 3",
   "language": "python",
   "name": "python3"
  },
  "language_info": {
   "codemirror_mode": {
    "name": "ipython",
    "version": 3
   },
   "file_extension": ".py",
   "mimetype": "text/x-python",
   "name": "python",
   "nbconvert_exporter": "python",
   "pygments_lexer": "ipython3",
   "version": "3.7.3"
  }
 },
 "nbformat": 4,
 "nbformat_minor": 2
}
