{
 "cells": [
  {
   "cell_type": "code",
   "execution_count": 1,
   "metadata": {},
   "outputs": [],
   "source": [
    "import numpy as np"
   ]
  },
  {
   "cell_type": "markdown",
   "metadata": {},
   "source": [
    "<br>\n",
    "\n",
    "### 배열 생성"
   ]
  },
  {
   "cell_type": "code",
   "execution_count": 2,
   "metadata": {},
   "outputs": [],
   "source": [
    "a = np.arange(12).reshape(4,3)\n",
    "b = np.arange(10, 130, 10).reshape(4,3)"
   ]
  },
  {
   "cell_type": "code",
   "execution_count": 3,
   "metadata": {},
   "outputs": [
    {
     "data": {
      "text/plain": [
       "array([[ 0,  1,  2],\n",
       "       [ 3,  4,  5],\n",
       "       [ 6,  7,  8],\n",
       "       [ 9, 10, 11]])"
      ]
     },
     "execution_count": 3,
     "metadata": {},
     "output_type": "execute_result"
    }
   ],
   "source": [
    "a"
   ]
  },
  {
   "cell_type": "code",
   "execution_count": 4,
   "metadata": {},
   "outputs": [
    {
     "data": {
      "text/plain": [
       "array([[ 10,  20,  30],\n",
       "       [ 40,  50,  60],\n",
       "       [ 70,  80,  90],\n",
       "       [100, 110, 120]])"
      ]
     },
     "execution_count": 4,
     "metadata": {},
     "output_type": "execute_result"
    }
   ],
   "source": [
    "b"
   ]
  },
  {
   "cell_type": "code",
   "execution_count": 5,
   "metadata": {},
   "outputs": [
    {
     "data": {
      "text/plain": [
       "2"
      ]
     },
     "execution_count": 5,
     "metadata": {},
     "output_type": "execute_result"
    }
   ],
   "source": [
    "a.ndim"
   ]
  },
  {
   "cell_type": "code",
   "execution_count": 21,
   "metadata": {},
   "outputs": [
    {
     "data": {
      "text/plain": [
       "(4, 3)"
      ]
     },
     "execution_count": 21,
     "metadata": {},
     "output_type": "execute_result"
    }
   ],
   "source": [
    "b.shape"
   ]
  },
  {
   "cell_type": "code",
   "execution_count": 6,
   "metadata": {},
   "outputs": [
    {
     "data": {
      "text/plain": [
       "array([[[  0,   1,   2],\n",
       "        [  3,   4,   5],\n",
       "        [  6,   7,   8],\n",
       "        [  9,  10,  11]],\n",
       "\n",
       "       [[ 10,  20,  30],\n",
       "        [ 40,  50,  60],\n",
       "        [ 70,  80,  90],\n",
       "        [100, 110, 120]]])"
      ]
     },
     "execution_count": 6,
     "metadata": {},
     "output_type": "execute_result"
    }
   ],
   "source": [
    "c = np.stack((a,b), 0)\n",
    "c"
   ]
  },
  {
   "cell_type": "code",
   "execution_count": 7,
   "metadata": {},
   "outputs": [
    {
     "data": {
      "text/plain": [
       "3"
      ]
     },
     "execution_count": 7,
     "metadata": {},
     "output_type": "execute_result"
    }
   ],
   "source": [
    "c.ndim"
   ]
  },
  {
   "cell_type": "code",
   "execution_count": 8,
   "metadata": {},
   "outputs": [
    {
     "data": {
      "text/plain": [
       "(2, 4, 3)"
      ]
     },
     "execution_count": 8,
     "metadata": {},
     "output_type": "execute_result"
    }
   ],
   "source": [
    "c.shape"
   ]
  },
  {
   "cell_type": "code",
   "execution_count": 9,
   "metadata": {},
   "outputs": [
    {
     "data": {
      "text/plain": [
       "array([[[  0,   1,   2],\n",
       "        [ 10,  20,  30]],\n",
       "\n",
       "       [[  3,   4,   5],\n",
       "        [ 40,  50,  60]],\n",
       "\n",
       "       [[  6,   7,   8],\n",
       "        [ 70,  80,  90]],\n",
       "\n",
       "       [[  9,  10,  11],\n",
       "        [100, 110, 120]]])"
      ]
     },
     "execution_count": 9,
     "metadata": {},
     "output_type": "execute_result"
    }
   ],
   "source": [
    "d = np.stack((a,b), 1)\n",
    "d"
   ]
  },
  {
   "cell_type": "code",
   "execution_count": 10,
   "metadata": {},
   "outputs": [
    {
     "data": {
      "text/plain": [
       "3"
      ]
     },
     "execution_count": 10,
     "metadata": {},
     "output_type": "execute_result"
    }
   ],
   "source": [
    "d.ndim"
   ]
  },
  {
   "cell_type": "code",
   "execution_count": 11,
   "metadata": {},
   "outputs": [
    {
     "data": {
      "text/plain": [
       "(4, 2, 3)"
      ]
     },
     "execution_count": 11,
     "metadata": {},
     "output_type": "execute_result"
    }
   ],
   "source": [
    "d.shape"
   ]
  },
  {
   "cell_type": "code",
   "execution_count": 14,
   "metadata": {},
   "outputs": [
    {
     "data": {
      "text/plain": [
       "array([[[  0,  10],\n",
       "        [  1,  20],\n",
       "        [  2,  30]],\n",
       "\n",
       "       [[  3,  40],\n",
       "        [  4,  50],\n",
       "        [  5,  60]],\n",
       "\n",
       "       [[  6,  70],\n",
       "        [  7,  80],\n",
       "        [  8,  90]],\n",
       "\n",
       "       [[  9, 100],\n",
       "        [ 10, 110],\n",
       "        [ 11, 120]]])"
      ]
     },
     "execution_count": 14,
     "metadata": {},
     "output_type": "execute_result"
    }
   ],
   "source": [
    "e = np.stack((a,b), 2)\n",
    "e"
   ]
  },
  {
   "cell_type": "code",
   "execution_count": 15,
   "metadata": {},
   "outputs": [
    {
     "data": {
      "text/plain": [
       "array([[[  0,  10],\n",
       "        [  1,  20],\n",
       "        [  2,  30]],\n",
       "\n",
       "       [[  3,  40],\n",
       "        [  4,  50],\n",
       "        [  5,  60]],\n",
       "\n",
       "       [[  6,  70],\n",
       "        [  7,  80],\n",
       "        [  8,  90]],\n",
       "\n",
       "       [[  9, 100],\n",
       "        [ 10, 110],\n",
       "        [ 11, 120]]])"
      ]
     },
     "execution_count": 15,
     "metadata": {},
     "output_type": "execute_result"
    }
   ],
   "source": [
    "f = np.stack((a,b), -1)\n",
    "f"
   ]
  },
  {
   "cell_type": "markdown",
   "metadata": {},
   "source": [
    "<br>\n",
    "\n",
    "### np.stack.shape"
   ]
  },
  {
   "cell_type": "code",
   "execution_count": 9,
   "metadata": {
    "scrolled": true
   },
   "outputs": [
    {
     "data": {
      "text/plain": [
       "(2, 4, 3)"
      ]
     },
     "execution_count": 9,
     "metadata": {},
     "output_type": "execute_result"
    }
   ],
   "source": [
    "np.stack((a,b), 0).shape"
   ]
  },
  {
   "cell_type": "code",
   "execution_count": 10,
   "metadata": {},
   "outputs": [
    {
     "data": {
      "text/plain": [
       "(4, 2, 3)"
      ]
     },
     "execution_count": 10,
     "metadata": {},
     "output_type": "execute_result"
    }
   ],
   "source": [
    "np.stack((a,b), 1).shape"
   ]
  },
  {
   "cell_type": "code",
   "execution_count": 11,
   "metadata": {},
   "outputs": [
    {
     "data": {
      "text/plain": [
       "(4, 3, 2)"
      ]
     },
     "execution_count": 11,
     "metadata": {},
     "output_type": "execute_result"
    }
   ],
   "source": [
    "np.stack((a,b), 2).shape"
   ]
  },
  {
   "cell_type": "code",
   "execution_count": 12,
   "metadata": {},
   "outputs": [
    {
     "data": {
      "text/plain": [
       "(4, 3, 2)"
      ]
     },
     "execution_count": 12,
     "metadata": {},
     "output_type": "execute_result"
    }
   ],
   "source": [
    "np.stack((a,b), -1).shape"
   ]
  },
  {
   "cell_type": "markdown",
   "metadata": {},
   "source": [
    "<br>\n",
    "\n",
    "### 예시"
   ]
  },
  {
   "cell_type": "code",
   "execution_count": 22,
   "metadata": {
    "scrolled": true
   },
   "outputs": [
    {
     "data": {
      "text/plain": [
       "[array([[ 0.54387712, -2.37304591,  1.35028849,  0.91806114],\n",
       "        [-2.00494171, -0.4606062 , -0.06589175,  0.76423663],\n",
       "        [-0.7811399 , -1.41546356, -1.52198265,  0.9562948 ]]),\n",
       " array([[-0.34266251, -0.00677227,  0.66968874, -0.97586105],\n",
       "        [ 0.08917424, -0.01793068, -0.83092031,  0.51530122],\n",
       "        [-0.47060994, -0.40032145, -0.50561966,  0.16049382]]),\n",
       " array([[ 8.12597708e-01,  1.08848024e+00,  1.81735953e+00,\n",
       "          3.66520869e-01],\n",
       "        [ 1.46772141e-03,  1.13283152e-02,  3.69527410e-01,\n",
       "         -1.01555505e+00],\n",
       "        [-8.51576669e-01, -1.71021521e-01, -5.19236787e-01,\n",
       "         -8.48495046e-01]]),\n",
       " array([[-1.72373409, -1.05241138,  0.61312062,  1.67132968],\n",
       "        [-0.71930411, -0.51873649, -2.63090849,  0.56328393],\n",
       "        [ 0.58054879,  0.1102344 , -0.57458622,  0.78179989]]),\n",
       " array([[ 0.00538395, -1.45402411,  0.23642758, -0.39901316],\n",
       "        [-0.15617962,  1.42039259, -0.54137662,  0.84413184],\n",
       "        [ 0.99467431,  0.07151275,  0.62960834, -0.28669968]]),\n",
       " array([[-0.68231297, -0.35180818,  0.3169427 , -0.72365615],\n",
       "        [ 1.01109855,  0.0276993 ,  0.98529353, -0.07730245],\n",
       "        [-1.34312193, -1.07321171,  0.63309291, -1.31140552]]),\n",
       " array([[-0.75604296,  0.91707459,  1.50447669,  0.29533787],\n",
       "        [-0.10626541, -0.2839918 , -0.89777778, -0.80671461],\n",
       "        [ 1.23751768, -1.79919673,  1.4244    , -0.86346633]]),\n",
       " array([[ 1.1612228 ,  0.8175773 ,  0.10613648,  0.8075035 ],\n",
       "        [-0.11911104,  1.80100088, -0.94922788,  0.8326461 ],\n",
       "        [ 0.61357571, -0.64576989,  0.28866152, -0.36982073]]),\n",
       " array([[ 0.33709415,  1.30848582,  0.88893588, -0.10696891],\n",
       "        [-2.00351568, -1.67677214,  0.67735317,  0.07038034],\n",
       "        [-0.19393117, -0.92398502,  0.30058915, -0.91840857]]),\n",
       " array([[ 2.16903092,  1.23516815, -1.01110044, -0.18615153],\n",
       "        [ 0.63331812, -0.37444292,  0.71139034,  1.8503605 ],\n",
       "        [-0.58173016, -0.41499579, -0.4836718 ,  0.59452244]])]"
      ]
     },
     "execution_count": 22,
     "metadata": {},
     "output_type": "execute_result"
    }
   ],
   "source": [
    "arrays = [np.random.randn(3, 4) for _ in range(10)]\n",
    "arrays"
   ]
  },
  {
   "cell_type": "code",
   "execution_count": 34,
   "metadata": {},
   "outputs": [
    {
     "data": {
      "text/plain": [
       "10"
      ]
     },
     "execution_count": 34,
     "metadata": {},
     "output_type": "execute_result"
    }
   ],
   "source": [
    "len(arrays)"
   ]
  },
  {
   "cell_type": "code",
   "execution_count": 30,
   "metadata": {},
   "outputs": [
    {
     "data": {
      "text/plain": [
       "(10, 3, 4)"
      ]
     },
     "execution_count": 30,
     "metadata": {},
     "output_type": "execute_result"
    }
   ],
   "source": [
    "np.stack(arrays, 0).shape"
   ]
  },
  {
   "cell_type": "code",
   "execution_count": 32,
   "metadata": {},
   "outputs": [
    {
     "data": {
      "text/plain": [
       "(3, 10, 4)"
      ]
     },
     "execution_count": 32,
     "metadata": {},
     "output_type": "execute_result"
    }
   ],
   "source": [
    "np.stack(arrays, 1).shape"
   ]
  },
  {
   "cell_type": "code",
   "execution_count": 31,
   "metadata": {},
   "outputs": [
    {
     "data": {
      "text/plain": [
       "(3, 4, 10)"
      ]
     },
     "execution_count": 31,
     "metadata": {},
     "output_type": "execute_result"
    }
   ],
   "source": [
    "np.stack(arrays, 2).shape"
   ]
  },
  {
   "cell_type": "code",
   "execution_count": 33,
   "metadata": {},
   "outputs": [
    {
     "data": {
      "text/plain": [
       "(3, 4, 10)"
      ]
     },
     "execution_count": 33,
     "metadata": {},
     "output_type": "execute_result"
    }
   ],
   "source": [
    "np.stack(arrays, -1).shape"
   ]
  }
 ],
 "metadata": {
  "kernelspec": {
   "display_name": "Python 3",
   "language": "python",
   "name": "python3"
  },
  "language_info": {
   "codemirror_mode": {
    "name": "ipython",
    "version": 3
   },
   "file_extension": ".py",
   "mimetype": "text/x-python",
   "name": "python",
   "nbconvert_exporter": "python",
   "pygments_lexer": "ipython3",
   "version": "3.7.3"
  }
 },
 "nbformat": 4,
 "nbformat_minor": 2
}
