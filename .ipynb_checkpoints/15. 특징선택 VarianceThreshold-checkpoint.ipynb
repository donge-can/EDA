{
 "cells": [
  {
   "cell_type": "markdown",
   "metadata": {},
   "source": [
    "<br>\n",
    "\n",
    "### 특징 선택 - VarianceThreshold\n",
    "- 분산에 의한 선택\n",
    "\n",
    "\n",
    "- 원래 예측모형에서 중요한 특징데이터란, 종속데이터와 상관관계가 크고, 예측에 도움이 되는 데이터를 의미한다.\n",
    "\n",
    "\n",
    "- 상관관계 계산에 앞서, 특징 데이터의 값 자체가 표본에 따라 그다지 변하지 않는다면 예측에 도움이 되지 않는다.\n",
    "\n",
    "- 표본 변화에 따른 데이터 값의 변화 즉, **분산이 기준치보다 낮은 특징 데이터는 사용하지 않는 방법이 분산에 의한 선택 방법**이다.\n",
    "\n",
    "- 예를 들어, 종속데이터와 특징데이터가 모두 0 또는 1 두가지 값만 가지는데 종속데이터는 0과 1이 균형을 이루는데 반해, 특징데이터가 대부분(예를 들어 90%)의 값이 0 이라면 특징데이터는 분류에 도움이 되지 않을 가능성이 높다."
   ]
  },
  {
   "cell_type": "code",
   "execution_count": 1,
   "metadata": {},
   "outputs": [],
   "source": [
    "from sklearn.feature_selection import VarianceThreshold"
   ]
  },
  {
   "cell_type": "code",
   "execution_count": null,
   "metadata": {},
   "outputs": [],
   "source": [
    "train = pd.read_csv('C:\\\\Users\\\\user\\\\Desktop\\\\02\\\\train.csv')\n",
    "test = pd.read_csv('C:\\\\Users\\\\user\\\\Desktop\\\\02\\\\test.csv')\n",
    "test.head()"
   ]
  },
  {
   "cell_type": "code",
   "execution_count": 2,
   "metadata": {},
   "outputs": [],
   "source": [
    "selector = VarianceThreshold(1e-5)\n",
    "\n",
    "X_train_sel = selector.fit_transform(X_train)\n",
    "X_test_sel = selector.transform(X_test)\n",
    "X_train_sel.shape"
   ]
  },
  {
   "cell_type": "code",
   "execution_count": null,
   "metadata": {},
   "outputs": [],
   "source": [
    "selector = VarianceThreshold(threshold = .01)\n",
    "\n",
    "selector.fit(train.drop(['id', 'target'], axis =1)) # iid 와 target 변수 제외하고 훈련\n",
    "\n",
    "# 부울 배열 요소를 토글하는 함수\n",
    "f = np.vectorize(lambda x: not x)\n",
    "v = train.drop(['id', 'target'], axis=1).columns[f(selector.get_support())]\n",
    "\n",
    "print('{} variables have too low variance.'.format(len(v)))\n",
    "print('These variables are {}'.format(list(v)))"
   ]
  }
 ],
 "metadata": {
  "kernelspec": {
   "display_name": "Python 3",
   "language": "python",
   "name": "python3"
  },
  "language_info": {
   "codemirror_mode": {
    "name": "ipython",
    "version": 3
   },
   "file_extension": ".py",
   "mimetype": "text/x-python",
   "name": "python",
   "nbconvert_exporter": "python",
   "pygments_lexer": "ipython3",
   "version": "3.7.3"
  }
 },
 "nbformat": 4,
 "nbformat_minor": 2
}
