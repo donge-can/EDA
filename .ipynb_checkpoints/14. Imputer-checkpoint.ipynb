{
 "cells": [
  {
   "cell_type": "markdown",
   "metadata": {},
   "source": [
    "<br>\n",
    "\n",
    "### Imputer 결측치 대체\n",
    "\n",
    "#### missing_values\n",
    "\n",
    "- default = 'NaN'\n",
    "\n",
    "- 해당 데이터 내에서 결측치 값\n",
    "\n",
    "- 예를 들어, 만약 NaN 대신, 결측치가 -1로 채워져 있다면, missing_values = -1 로 작성해야 한다.\n",
    "\n",
    "\n",
    "\n",
    "#### strategy\n",
    "\n",
    "- 결측치를 대체할 값\n",
    "\n",
    "- default = 'mean'\n",
    "\n",
    "- median, most_frequent 등도 사용 가능하다.\n",
    "\n",
    "\n",
    "#### axis\n",
    "\n",
    "- 방향 설정\n",
    "\n",
    "- axis = 0 or 1\n",
    "\n",
    "\n",
    "\n",
    "#### verbose\n",
    "\n",
    "- default = 0\n",
    "\n",
    "\n",
    "\n",
    "#### copy\n",
    "\n",
    "- default = True\n",
    "\n",
    "- True일 경우, X의 복사본이 만드러진다.\n"
   ]
  },
  {
   "cell_type": "code",
   "execution_count": 1,
   "metadata": {},
   "outputs": [],
   "source": [
    "from sklearn.preprocessing import Imputer"
   ]
  },
  {
   "cell_type": "code",
   "execution_count": null,
   "metadata": {},
   "outputs": [],
   "source": [
    "train = pd.read_csv('C:\\\\Users\\\\user\\\\Desktop\\\\02\\\\train.csv')\n",
    "test = pd.read_csv('C:\\\\Users\\\\user\\\\Desktop\\\\02\\\\test.csv')\n",
    "test.head()"
   ]
  },
  {
   "cell_type": "code",
   "execution_count": null,
   "metadata": {},
   "outputs": [],
   "source": [
    "# 평균 또는 모드로 대체\n",
    "mean_imp = Imputer(missing_values = -1, strategy = 'mean', axis =0)\n",
    "mode_imp = Imputer(missing_values = -1, strategy = 'most_frequent', axis =0)\n",
    "\n",
    "\n",
    "# 평균으로 대체\n",
    "train['ps_car_14'] = mean_imp.fit_transform(train[['ps_car_14']]).ravel()"
   ]
  }
 ],
 "metadata": {
  "kernelspec": {
   "display_name": "Python 3",
   "language": "python",
   "name": "python3"
  },
  "language_info": {
   "codemirror_mode": {
    "name": "ipython",
    "version": 3
   },
   "file_extension": ".py",
   "mimetype": "text/x-python",
   "name": "python",
   "nbconvert_exporter": "python",
   "pygments_lexer": "ipython3",
   "version": "3.7.3"
  }
 },
 "nbformat": 4,
 "nbformat_minor": 2
}
