{
 "cells": [
  {
   "cell_type": "markdown",
   "metadata": {},
   "source": [
    "<br>\n",
    "\n",
    "### Imputer 결측치 대체\n",
    "\n",
    "#### missing_values\n",
    "\n",
    "- default = 'NaN'\n",
    "\n",
    "- 해당 데이터 내에서 결측치 값\n",
    "\n",
    "- 예를 들어, 만약 NaN 대신, 결측치가 -1로 채워져 있다면, missing_values = -1 로 작성해야 한다.\n",
    "\n",
    "\n",
    "\n",
    "#### strategy\n",
    "\n",
    "- 결측치를 대체할 값\n",
    "\n",
    "- default = 'mean'\n",
    "\n",
    "- median, most_frequent 등도 사용 가능하다.\n",
    "\n",
    "\n",
    "#### axis\n",
    "\n",
    "- 방향 설정\n",
    "\n",
    "- axis = 0 or 1\n",
    "\n",
    "\n",
    "\n",
    "#### verbose\n",
    "\n",
    "- default = 0\n",
    "\n",
    "\n",
    "\n",
    "#### copy\n",
    "\n",
    "- default = True\n",
    "\n",
    "- True일 경우, X의 복사본이 만드러진다.\n"
   ]
  },
  {
   "cell_type": "code",
   "execution_count": 1,
   "metadata": {},
   "outputs": [],
   "source": [
    "from sklearn.preprocessing import Imputer"
   ]
  },
  {
   "cell_type": "code",
   "execution_count": null,
   "metadata": {},
   "outputs": [],
   "source": [
    "# 평균 또는 모드로 대체\n",
    "mean_imp = Imputer(missing_values = -1, strategy = 'mean', axis =0)\n",
    "mode_imp = Imputer(missing_values = -1, strategy = 'most_frequent', axis =0)\n",
    "\n",
    "\n",
    "# 평균으로 대체\n",
    "train['ps_car_14'] = mean_imp.fit_transform(train[['ps_car_14']]).ravel()"
   ]
  },
  {
   "cell_type": "markdown",
   "metadata": {},
   "source": [
    "<br>\n",
    "\n",
    "### SimpleImputer\n",
    "\n",
    "- 사이킷런 0.22 버전에선 imputer가 삭제될 예정임\n",
    "- 0.22 버전에서는 from sklearn.impute import SimpleImputer 사용해야함"
   ]
  },
  {
   "cell_type": "code",
   "execution_count": 5,
   "metadata": {},
   "outputs": [],
   "source": [
    "from sklearn.impute import SimpleImputer\n",
    "import numpy as np\n",
    "import pandas as pd"
   ]
  },
  {
   "cell_type": "code",
   "execution_count": 6,
   "metadata": {},
   "outputs": [],
   "source": [
    "df = pd.DataFrame({\"A\": [1.0, 5.0, 10.0], \"B\":[2.0, 6.0, 11.0], \"C\":[3.0, np.nan, 23.0]})"
   ]
  },
  {
   "cell_type": "code",
   "execution_count": 8,
   "metadata": {},
   "outputs": [],
   "source": [
    "simr = SimpleImputer(missing_values = np.nan, strategy = 'mean')\n",
    "simr = simr.fit(df.values)"
   ]
  },
  {
   "cell_type": "code",
   "execution_count": 9,
   "metadata": {},
   "outputs": [
    {
     "data": {
      "text/plain": [
       "SimpleImputer(copy=True, fill_value=None, missing_values=nan, strategy='mean',\n",
       "       verbose=0)"
      ]
     },
     "execution_count": 9,
     "metadata": {},
     "output_type": "execute_result"
    }
   ],
   "source": [
    "simr"
   ]
  },
  {
   "cell_type": "code",
   "execution_count": 11,
   "metadata": {},
   "outputs": [
    {
     "data": {
      "text/plain": [
       "array([[ 1.,  2.,  3.],\n",
       "       [ 5.,  6., 13.],\n",
       "       [10., 11., 23.]])"
      ]
     },
     "execution_count": 11,
     "metadata": {},
     "output_type": "execute_result"
    }
   ],
   "source": [
    "imputed_data = simr.transform(df.values)\n",
    "imputed_data"
   ]
  }
 ],
 "metadata": {
  "kernelspec": {
   "display_name": "Python 3",
   "language": "python",
   "name": "python3"
  },
  "language_info": {
   "codemirror_mode": {
    "name": "ipython",
    "version": 3
   },
   "file_extension": ".py",
   "mimetype": "text/x-python",
   "name": "python",
   "nbconvert_exporter": "python",
   "pygments_lexer": "ipython3",
   "version": "3.7.3"
  }
 },
 "nbformat": 4,
 "nbformat_minor": 2
}
